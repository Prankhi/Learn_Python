{
 "cells": [
  {
   "cell_type": "markdown",
   "metadata": {},
   "source": [
    "## Strings and Text"
   ]
  },
  {
   "cell_type": "markdown",
   "metadata": {},
   "source": [
    "While you have already been writing strings, you still do not know what they do. In this exercise,\n",
    "we create a bunch of variables with complex strings so you can see what they are for.\n",
    "First an explanation of strings.\n",
    "A string is usually a bit of text you want to display to someone or “export” out of the program\n",
    "you are writing. Python knows you want something to be a string when you put either \" (doublequotes)\n",
    "or ' (single- quotes) around the text. You saw this many times with your use of print\n",
    "when you put the text you want to go to the string inside \" or ' after the print. Then Python\n",
    "prints it.\n",
    "Strings may contain the format characters you have discovered so far. You simply put the formatted\n",
    "variables in the string, and then a % (percent) character, followed by the variable. The only\n",
    "catch is that if you want multiple formats in your string to print multiple variables, you need to\n",
    "put them inside ( ) (parentheses) separated by , (commas). It’s as if you were telling me to buy\n",
    "you a list of items from the store and you said, “I want milk, eggs, bread, and soup.” Only as a\n",
    "programmer we say, “(milk, eggs, bread, soup).”\n",
    "We will now type in a whole bunch of strings, variables, and formats, and print them. You will\n",
    "also practice using short abbreviated variable names. Programmers love saving themselves time\n",
    "at your expense by using annoying cryptic variable names, so let’s get you started being able to\n",
    "read and write them early on.\n",
    "ex6.py"
   ]
  },
  {
   "cell_type": "code",
   "execution_count": 1,
   "metadata": {},
   "outputs": [
    {
     "name": "stdout",
     "output_type": "stream",
     "text": [
      "There are 10 types of people.\n",
      "Those who know binary and those who don't.\n",
      "I said: 'There are 10 types of people.'.\n",
      "I also said: 'Those who know binary and those who don't.'.\n",
      "Isn't that joke so funny?! 'False'\n",
      "This is the left side of...a string with a right side.\n"
     ]
    }
   ],
   "source": [
    "x = \"There are %d types of people.\" % 10\n",
    "binary = \"binary\"\n",
    "do_not = \"don't\"\n",
    "y = \"Those who know %s and those who %s.\" % (binary, do_not)\n",
    "print(x)\n",
    "print(y)\n",
    "print(\"I said: %r.\" % x)\n",
    "print (\"I also said: '%s'.\" % y)\n",
    "hilarious =\"False\"\n",
    "joke_evaluation = \"Isn't that joke so funny?! %r\"\n",
    "print(joke_evaluation % hilarious)\n",
    "w = \"This is the left side of...\"\n",
    "e = \"a string with a right side.\"\n",
    "print(w + e)"
   ]
  },
  {
   "cell_type": "markdown",
   "metadata": {},
   "source": [
    "## What You Should See"
   ]
  },
  {
   "cell_type": "markdown",
   "metadata": {},
   "source": [
    "$ python ex6.py\n",
    "There are 10 types of people.\n",
    "Those who know binary and those who don't.\n",
    "I said: 'There are 10 types of people.'.\n",
    "I also said: 'Those who know binary and those who don't.'.\n",
    "Isn't that joke so funny?! False\n",
    "This is the left side of...a string with a right side."
   ]
  },
  {
   "cell_type": "markdown",
   "metadata": {},
   "source": [
    "## Study Drills"
   ]
  },
  {
   "cell_type": "markdown",
   "metadata": {},
   "source": [
    "1. Go through this program and write a comment above each line explaining it.\n",
    "2. Find all the places where a string is put inside a string. There are four places.\n",
    "3. Are you sure there are only four places? How do you know? Maybe I like lying.\n",
    "4. Explain why adding the two strings w and e with + makes a longer string."
   ]
  },
  {
   "cell_type": "markdown",
   "metadata": {},
   "source": [
    "# Common Student Questions"
   ]
  },
  {
   "cell_type": "markdown",
   "metadata": {},
   "source": [
    "# What is the difference between %r and %s?\n",
    " We use %r for debugging, since it displays the “raw” data of the variable, but we use %s and\n",
    "others for displaying to users.\n",
    "## What’s the point of %s and %d when you can just use %r?\n",
    "The %r is best for debugging, and the other formats are for actually displaying variables to users.\n",
    "## If you thought the joke was funny could you write hilarious = True?\n",
    "Yes, and you’ll learn more about these boolean values in Exercise 27.\n",
    "## Why do you put ' (single- quotes) around some strings and not others?\n",
    "Mostly it’s because of style, but I’ll use a single- quote inside a string that has double- quotes. Look\n",
    "at line 10 to see how I’m doing that.\n",
    "## I get the error TypeError: not all arguments converted during string formatting.\n",
    "You need to make sure that the line of code is exactly the same. What happens in this error is you\n",
    "have more % format characters in the string than variables to put in them. Go back and fi gure out\n",
    "what you did wrong."
   ]
  }
 ],
 "metadata": {
  "kernelspec": {
   "display_name": "Python 3",
   "language": "python",
   "name": "python3"
  },
  "language_info": {
   "codemirror_mode": {
    "name": "ipython",
    "version": 3
   },
   "file_extension": ".py",
   "mimetype": "text/x-python",
   "name": "python",
   "nbconvert_exporter": "python",
   "pygments_lexer": "ipython3",
   "version": "3.7.1"
  }
 },
 "nbformat": 4,
 "nbformat_minor": 2
}
