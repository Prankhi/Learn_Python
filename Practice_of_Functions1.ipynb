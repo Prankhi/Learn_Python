{
 "cells": [
  {
   "cell_type": "markdown",
   "metadata": {},
   "source": [
    "# Functions Can Return Something"
   ]
  },
  {
   "cell_type": "markdown",
   "metadata": {},
   "source": [
    "we are using the = character to name variables and set them to numbers or strings.\n",
    "We’re now going to blow your mind again by showing you how to use = and a new Python\n",
    "word return to set variables to be a value from a function. There will be one thing to pay close\n",
    "attention to, but fi rst type this in:"
   ]
  },
  {
   "cell_type": "code",
   "execution_count": null,
   "metadata": {},
   "outputs": [],
   "source": [
    "def add(a, b):\n",
    "print \"ADDING %d + %d\" % (a, b)\n",
    "return a + b\n",
    "\n",
    "def subtract(a, b):\n",
    "print \"SUBTRACTING %d - %d\" % (a, b)\n",
    "return a - b\n",
    "\n",
    "def multiply(a, b):\n",
    "print \"MULTIPLYING %d * %d\" % (a, b)\n",
    "return a * b\n",
    "\n",
    "def divide(a, b):\n",
    "print \"DIVIDING %d / %d\" % (a, b)\n",
    "return a / b\n",
    "\n",
    "\n",
    "print \"Let's do some math with just functions!\"\n",
    "\n",
    "age = add(30, 5)\n",
    "height = subtract(78, 4)\n",
    "weight = multiply(90, 2)\n",
    "iq = divide(100, 2)\n",
    "\n",
    "print \"Age: %d, Height: %d, Weight: %d, IQ: %d\" % (age, height, weight, iq)\n",
    "\n",
    "\n",
    "# A puzzle for the extra credit, type it in anyway.\n",
    "print \"Here is a puzzle.\"\n",
    "\n",
    "what = add(age, subtract(height, multiply(weight, divide(iq, 2))))\n",
    "\n",
    "print \"That becomes: \", what, \"Can you do it by hand?\""
   ]
  },
  {
   "cell_type": "markdown",
   "metadata": {},
   "source": [
    "We are now doing our own math functions for add, subtract, multiply, and divide. The\n",
    "important thing to notice is the last line where we say return a + b (in add). What this does is\n",
    "the following:"
   ]
  },
  {
   "cell_type": "markdown",
   "metadata": {},
   "source": [
    "1. Our function is called with two arguments: a and b.\n",
    "2. We print out what our function is doing, in this case ADDING.\n",
    "3. Then we tell Python to do something kind of backward: we return the addition of\n",
    "a + b. You might say this as, “I add a and b, then return them.”\n",
    "4. Python adds the two numbers. Then when the function ends, any line that runs it will be\n",
    "able to assign this a + b result to a variable."
   ]
  },
  {
   "cell_type": "markdown",
   "metadata": {},
   "source": [
    "### Study Drills"
   ]
  },
  {
   "cell_type": "markdown",
   "metadata": {},
   "source": [
    "1. If we aren’t really sure what return does, can try writing a few of our own functions and\n",
    "have them return some values. Can return anything that can put to the right\n",
    "of an =.\n",
    "2. At the end of the script is a puzzle. I’m taking the return value of one function and using\n",
    "it as the argument of another function. I’m doing this in a chain so that I’m kind of creating\n",
    "a formula using the functions. It looks really weird, but if I run the script, I can\n",
    "see the results. What we can do is try to figure out the normal formula that would\n",
    "recreate this same set of operations.\n",
    "3. Once we have the formula worked out for the puzzle, get in there and see what happens\n",
    "when we modify the parts of the functions. Try to change it on purpose to make\n",
    "another value.\n",
    "4. Finally, do the inverse. Write out a simple formula and use the functions in the same way\n",
    "to calculate it."
   ]
  },
  {
   "cell_type": "markdown",
   "metadata": {},
   "source": [
    "This exercise might really whack your brain out, but take it slow and easy and treat it like a little\n",
    "game. Figuring out puzzles like this is what makes programming fun, so I’ll be giving you more\n",
    "little problems like this as we go."
   ]
  },
  {
   "cell_type": "markdown",
   "metadata": {},
   "source": [
    "## Common Questions"
   ]
  },
  {
   "cell_type": "markdown",
   "metadata": {},
   "source": [
    "- Why does Python print the formula or the functions “backward”?\n",
    "It’s not really backward; it’s “inside out.” When you start breaking down the function into separate\n",
    "formulas and function calls, you’ll see how it works. Try to understand what I mean by “inside\n",
    "out” rather than “backward.”\n",
    "\n",
    "- How can I use raw_input() to enter my own values?\n",
    "Remember int(raw_input())? The problem with that is then you can’t enter fl oating point, so\n",
    "also try using float(raw_input()) instead.\n",
    "What do you mean by “write out a formula”?\n",
    "\n",
    "- Try 24 + 34 / 100 - 1023 as a start. Convert that to use the functions. Now come up with your\n",
    "own similar math equation and use variables so it’s more like a formula."
   ]
  },
  {
   "cell_type": "markdown",
   "metadata": {},
   "source": [
    "## Read Some Code"
   ]
  },
  {
   "cell_type": "markdown",
   "metadata": {},
   "source": [
    "1. Finding Python source code for things you need.\n",
    "\n",
    "2. Reading through the code and looking for fi les.\n",
    "\n",
    "3. Trying to understand code you find.\n",
    "\n",
    "When we do this exercise, think of this as an anthropologist, trucking through a new land\n",
    "with just barely enough of the local language to get around and survive. Except, of course, that\n",
    "will actually get out alive because the internet isn’t a jungle.\n",
    "\n",
    "Here’s what to do:\n",
    "    \n",
    "1. Go to bitbucket.org, github.com, or gitorious.org with any favorite web browser and\n",
    "search for “python.”\n",
    "\n",
    "2. Avoid any project that mentions “Python 3.” That’ll only confuse.\n",
    "\n",
    "3. Pick a random project and click on it.\n",
    "\n",
    "4. Click on the Source tab and browse through the list of files and directories until find\n",
    "a .py file (but not setup.py—that’s useless).\n",
    "\n",
    "5. Start at the top and read through it, taking notes on what you think it does.\n",
    "\n",
    "6. If any symbols or strange words seem to interest, can write them down to research later.\n",
    "\n",
    "That’s it. our job is to use what you know so far and see if we can read the code and get a grasp\n",
    "of what it does. Try skimming the code first, and then read it in detail. Maybe also try to take very\n",
    "diffi cult parts and read each symbol we know out loud."
   ]
  },
  {
   "cell_type": "markdown",
   "metadata": {},
   "source": [
    "## More Practice"
   ]
  },
  {
   "cell_type": "code",
   "execution_count": null,
   "metadata": {},
   "outputs": [],
   "source": [
    "print \"Let's practice everything.\"\n",
    "print 'You\\'d need to know \\'bout escapes with \\\\ that do \\n newlines and \\t tabs.'\n",
    "\n",
    "poem = \"\"\"\n",
    "\\tThe lovely world\n",
    "with logic so firmly planted\n",
    "cannot discern \\n the needs of love\n",
    "nor comprehend passion from intuition\n",
    "and requires an explanation\n",
    "\\n\\t\\twhere there is none.\n",
    "\"\"\"\n",
    "\n",
    "print \"- - - - - - - - - - - - - - \"\n",
    "print poem\n",
    "print \"- - - - - - - - - - - - - - \"\n",
    "\n",
    "five = 10 - 2 + 3 - 6\n",
    "print \"This should be five: %s\" % five\n",
    "\n",
    "def secret_formula(started):\n",
    "    jelly_beans = started * 500\n",
    "    jars = jelly_beans / 1000\n",
    "    crates = jars / 100\n",
    "    return jelly_beans, jars, crates\n",
    "\n",
    "\n",
    "start_point = 10000\n",
    "beans, jars, crates = secret_formula(start_point)\n",
    "\n",
    "print \"With a starting point of: %d\" % start_point\n",
    "print \"We'd have %d beans, %d jars, and %d crates.\" % (beans, jars, crates)\n",
    "\n",
    "start_point = start_point / 10\n",
    "\n",
    "print \"We can also do that this way:\"\n",
    "print \"We'd have %d beans, %d jars, and %d crates.\" % secret_formula(start_point)"
   ]
  },
  {
   "cell_type": "code",
   "execution_count": null,
   "metadata": {},
   "outputs": [],
   "source": []
  }
 ],
 "metadata": {
  "kernelspec": {
   "display_name": "Python 3",
   "language": "python",
   "name": "python3"
  },
  "language_info": {
   "codemirror_mode": {
    "name": "ipython",
    "version": 3
   },
   "file_extension": ".py",
   "mimetype": "text/x-python",
   "name": "python",
   "nbconvert_exporter": "python",
   "pygments_lexer": "ipython3",
   "version": "3.7.3"
  }
 },
 "nbformat": 4,
 "nbformat_minor": 2
}
