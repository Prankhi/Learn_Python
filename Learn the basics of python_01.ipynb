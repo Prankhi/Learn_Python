{
 "cells": [
  {
   "cell_type": "markdown",
   "metadata": {},
   "source": [
    "# Print whatever you want using print() function."
   ]
  },
  {
   "cell_type": "code",
   "execution_count": 1,
   "metadata": {},
   "outputs": [
    {
     "name": "stdout",
     "output_type": "stream",
     "text": [
      "Hello World\n",
      "Lets Start\n",
      "Welcome to Python World\n",
      "Intrduction\n",
      "Keep Continue\n"
     ]
    }
   ],
   "source": [
    "print(\"Hello World\")\n",
    "print(\"Lets Start\")\n",
    "print(\"Welcome to Python World\")\n",
    "print(\"Intrduction\")\n",
    "print(\"Keep Continue\")"
   ]
  },
  {
   "cell_type": "markdown",
   "metadata": {},
   "source": [
    "# Comments"
   ]
  },
  {
   "cell_type": "markdown",
   "metadata": {},
   "source": [
    "Comments are very important in your programs. They are used to tell you what something does\n",
    "in English, and they also are used to disable parts of your program if you need to remove them\n",
    "temporarily. Here’s how you use comments in Python:"
   ]
  },
  {
   "cell_type": "code",
   "execution_count": 2,
   "metadata": {},
   "outputs": [
    {
     "name": "stdout",
     "output_type": "stream",
     "text": [
      "run and achive\n",
      "This will run.\n"
     ]
    }
   ],
   "source": [
    "\n",
    " # Anything after the # is ignored by python.\n",
    "\n",
    "print(\"run and achive\") # and the comment after is ignored\n",
    "\n",
    " # You can also use a comment to \"disable\" or comment out a piece of code:\n",
    " # print \"This won't run.\"\n",
    "\n",
    "print (\"This will run.\")\n",
    "\n",
    "\n"
   ]
  },
  {
   "cell_type": "markdown",
   "metadata": {},
   "source": [
    "# Numbers and Math"
   ]
  },
  {
   "cell_type": "markdown",
   "metadata": {},
   "source": [
    "Every programming language has some kind of way of doing numbers and math. Do not worry:\n",
    "programmers lie frequently about being math geniuses when they really aren’t. If they were\n",
    "math geniuses, they would be doing math, not writing ads and social network games to steal\n",
    "people’s money.\n",
    "This exercise has lots of math symbols. Let’s name them right away so you know what they are\n",
    "called. As you type this one in, say the names. When saying them feels boring, you can stop saying\n",
    "them. Here are the names:\n",
    "\n",
    "\n",
    "    + plus \n",
    "    - minus\n",
    "    / slash\n",
    "    * asterisk\n",
    "    % percent\n",
    "    < less- than\n",
    "    > greater- than\n",
    "    <= less- than- equal\n",
    "    >= greater- than- equal"
   ]
  },
  {
   "cell_type": "code",
   "execution_count": 3,
   "metadata": {},
   "outputs": [
    {
     "name": "stdout",
     "output_type": "stream",
     "text": [
      "I will count all of my books\n",
      "Advenchers Books 24.0\n",
      "Biology Books 50\n",
      "let count all of book selfs:\n",
      "19.5\n",
      "is it true that 3 + 2 < 5 - 7?\n",
      "False\n"
     ]
    }
   ],
   "source": [
    "print(\"I will count all of my books\")\n",
    "print(\"Advenchers Books\", 21 + 12 / 4)\n",
    "print(\"Biology Books\", 50 - 36 * 2% 3)\n",
    "print(\"let count all of book selfs:\")\n",
    "print(12 + 2 + 1 - 5 + 4 % 6 - 4 / 8 + 6)\n",
    "print(\"is it true that 3 + 2 < 5 - 7?\")\n",
    "print(3 + 2 < 5 - 7)\n"
   ]
  },
  {
   "cell_type": "markdown",
   "metadata": {},
   "source": [
    "# Variables and Names"
   ]
  },
  {
   "cell_type": "markdown",
   "metadata": {},
   "source": [
    "Now you can print things with print and you can do math. The next step is to learn about\n",
    "variables. In programming, a variable is nothing more than a name for something so you\n",
    "can use the name rather than the something as you code. Programmers use these variable\n",
    "names to make their code read more like English and because they have lousy memories. If\n",
    "they didn’t use good names for things in their software, they’d get lost when they tried to\n",
    "read their code again.\n"
   ]
  },
  {
   "cell_type": "code",
   "execution_count": 4,
   "metadata": {},
   "outputs": [
    {
     "name": "stdout",
     "output_type": "stream",
     "text": [
      "There are 100 cars available.\n",
      "There are only 30 drivers available.\n",
      "There will be 70 empty cars today.\n",
      "We can transport 120.0 people today.\n",
      "We have 90 to carpool today.\n",
      "We need to put about 3.0 in each car.\n"
     ]
    }
   ],
   "source": [
    "cars = 100\n",
    "space_in_a_car = 4.0\n",
    "drivers = 30\n",
    "passengers = 90\n",
    "cars_not_driven = cars - drivers\n",
    "cars_driven = drivers\n",
    "carpool_capacity = cars_driven * space_in_a_car\n",
    "average_passengers_per_car = passengers / cars_driven\n",
    "\n",
    "print(\"There are\", cars, \"cars available.\")\n",
    "print(\"There are only\", drivers, \"drivers available.\")\n",
    "print(\"There will be\", cars_not_driven, \"empty cars today.\")\n",
    "print(\"We can transport\", carpool_capacity, \"people today.\")\n",
    "print(\"We have\", passengers, \"to carpool today.\")\n",
    "print(\"We need to put about\", average_passengers_per_car, \"in each car.\")\n"
   ]
  }
 ],
 "metadata": {
  "kernelspec": {
   "display_name": "Python 3",
   "language": "python",
   "name": "python3"
  },
  "language_info": {
   "codemirror_mode": {
    "name": "ipython",
    "version": 3
   },
   "file_extension": ".py",
   "mimetype": "text/x-python",
   "name": "python",
   "nbconvert_exporter": "python",
   "pygments_lexer": "ipython3",
   "version": "3.7.1"
  }
 },
 "nbformat": 4,
 "nbformat_minor": 2
}
