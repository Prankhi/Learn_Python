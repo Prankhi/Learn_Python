{
 "cells": [
  {
   "cell_type": "markdown",
   "metadata": {},
   "source": [
    "## Swaping value of two variable"
   ]
  },
  {
   "cell_type": "code",
   "execution_count": 1,
   "metadata": {},
   "outputs": [
    {
     "name": "stdout",
     "output_type": "stream",
     "text": [
      "After swaping the value of a= 9 and b= 5\n"
     ]
    }
   ],
   "source": [
    "# assigning the value of variables \n",
    "a = 5\n",
    "b = 9\n",
    "\n",
    "#useing third variable \n",
    "# x = a\n",
    "# a = b\n",
    "# b = x\n",
    "\n",
    "# useing pythonic way\n",
    "\n",
    "a,b = b,a\n",
    "print(\"After swaping the value of a= %s and b= %s\" %(a,b))"
   ]
  },
  {
   "cell_type": "markdown",
   "metadata": {},
   "source": [
    "## Reverse the input string"
   ]
  },
  {
   "cell_type": "code",
   "execution_count": 2,
   "metadata": {},
   "outputs": [
    {
     "name": "stdout",
     "output_type": "stream",
     "text": [
      "i\n",
      "m\n",
      "o\n",
      "y\n",
      "A\n"
     ]
    },
    {
     "data": {
      "text/plain": [
       "'imoyA'"
      ]
     },
     "execution_count": 2,
     "metadata": {},
     "output_type": "execute_result"
    }
   ],
   "source": [
    "k = \"Ayomi\"\n",
    "# useing reversed function \n",
    "\n",
    "for i in reversed(k):\n",
    "    print(i)\n",
    "\n",
    "# writing function for reverse\n",
    "def reverse(k):\n",
    "    s = \"\"\n",
    "    for i in k:\n",
    "    \n",
    "        s = i+s\n",
    "    return s\n",
    "\n",
    "reverse(k)"
   ]
  },
  {
   "cell_type": "markdown",
   "metadata": {},
   "source": [
    "## Pyramid programe"
   ]
  },
  {
   "cell_type": "code",
   "execution_count": 3,
   "metadata": {},
   "outputs": [
    {
     "name": "stdout",
     "output_type": "stream",
     "text": [
      "enter the lenth of pyramid\n",
      "7\n",
      "* \n",
      "* * \n",
      "* * * \n",
      "* * * * \n",
      "* * * * * \n",
      "* * * * * * \n",
      "* * * * * * * \n"
     ]
    }
   ],
   "source": [
    "print(\"enter the lenth of pyramid\")\n",
    "x = int(input())\n",
    "\n",
    "# Defining the function to print the pyramid\n",
    "def pyramid(x):\n",
    "    # this loop is for row\n",
    "    for i in range(0, x):\n",
    "    # this loop is for column\n",
    "        for n in range(0, i+1):  # range(x,y)\n",
    "            print(\"* \", end=\"\")\n",
    "        print(\"\\r\")\n",
    "\n",
    "pyramid(x)"
   ]
  },
  {
   "cell_type": "code",
   "execution_count": 4,
   "metadata": {},
   "outputs": [
    {
     "name": "stdout",
     "output_type": "stream",
     "text": [
      "enter the lenth of pyramid\n",
      "7\n",
      "1 \n",
      "1 2 \n",
      "1 2 3 \n",
      "1 2 3 4 \n",
      "1 2 3 4 5 \n",
      "1 2 3 4 5 6 \n",
      "1 2 3 4 5 6 7 \n"
     ]
    }
   ],
   "source": [
    "print(\"enter the lenth of pyramid\")\n",
    "y = int(input())\n",
    "\n",
    "\n",
    "\n",
    "def pyramid_nm(y):\n",
    "    \n",
    "    p = 1\n",
    "    for row in range(0, y):\n",
    "        p = 1\n",
    "        for column in range(0, row+1):\n",
    "            print(p, end=\" \")\n",
    "            p = p + 1\n",
    "            \n",
    "        print(\"\\r\")\n",
    "\n",
    "\n",
    "pyramid_nm(y)"
   ]
  },
  {
   "cell_type": "code",
   "execution_count": 5,
   "metadata": {},
   "outputs": [
    {
     "name": "stdout",
     "output_type": "stream",
     "text": [
      "enter the lenth of pyramid\n",
      "7\n",
      "1 \n",
      "2 3 \n",
      "4 5 6 \n",
      "7 8 9 10 \n",
      "11 12 13 14 15 \n",
      "16 17 18 19 20 21 \n",
      "22 23 24 25 26 27 28 \n"
     ]
    }
   ],
   "source": [
    "print(\"enter the lenth of pyramid\")\n",
    "y = int(input())\n",
    "\n",
    "p = 1\n",
    "\n",
    "def pyramid_num(y):\n",
    "    \n",
    "    p = 1\n",
    "    for row in range(0, y):\n",
    "        for column in range(0, row + 1):\n",
    "            print(p, end=\" \")\n",
    "            p = p + 1\n",
    "            \n",
    "        print(\"\\r\")\n",
    "\n",
    "\n",
    "pyramid_num(y)\n"
   ]
  }
 ],
 "metadata": {
  "kernelspec": {
   "display_name": "Python 3",
   "language": "python",
   "name": "python3"
  },
  "language_info": {
   "codemirror_mode": {
    "name": "ipython",
    "version": 3
   },
   "file_extension": ".py",
   "mimetype": "text/x-python",
   "name": "python",
   "nbconvert_exporter": "python",
   "pygments_lexer": "ipython3",
   "version": "3.7.3"
  }
 },
 "nbformat": 4,
 "nbformat_minor": 2
}
