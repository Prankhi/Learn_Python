{
 "cells": [
  {
   "cell_type": "markdown",
   "metadata": {},
   "source": [
    "## Instructions"
   ]
  },
  {
   "cell_type": "markdown",
   "metadata": {},
   "source": [
    "#### Complete the code in the editor to find the average rating for free apps."
   ]
  },
  {
   "cell_type": "markdown",
   "metadata": {},
   "source": [
    "Inside the for loop:\n",
    "    \n",
    "1. Assign the price of an app as a float to a variable named price. \n",
    "The price is the fifth element in each row (don't forget that the index starts at 0).\n",
    "\n",
    "                                            \n",
    "2. If price == 0.0, append the value stored in rating to the free_apps_ratings list using the list_name.append() command (note the free_apps_ratings is already defined in the code editor). \n",
    "Be careful with indentation.\n",
    "\n",
    "3. Outside the for loop body, compute the average rating of free apps. \n",
    "Assign the result to a variable named avg_rating_free. The ratings are stored in the free_apps_ratings list."
   ]
  },
  {
   "cell_type": "code",
   "execution_count": null,
   "metadata": {},
   "outputs": [],
   "source": [
    "# INITIAL CODE\n",
    "\n",
    "opened_file = open('AppleStore.csv')\n",
    "from csv import reader\n",
    "read_file = reader(opened_file)\n",
    "apps_data = list(read_file)\n",
    "\n",
    "free_apps_ratings = []\n",
    "for row in apps_data[1:]:\n",
    "    rating = float(row[7])\n",
    "    \n",
    "    # Complete the code from here\n",
    "    \n",
    "# SOLUTION CODE\n",
    "free_apps_ratings = []\n",
    "for row in apps_data[1:]:\n",
    "    rating = float(row[7])\n",
    "    \n",
    "    # Complete the code from here\n",
    "    price = float(row[4])\n",
    "    if price == 0.0:\n",
    "        free_apps_ratings.append(rating)\n",
    "        \n",
    "        \n",
    "avg_rating_free = sum(free_apps_ratings) / len(free_apps_ratings)\n",
    "    "
   ]
  },
  {
   "cell_type": "markdown",
   "metadata": {},
   "source": [
    "#### In the code editor, we've already initialized the variable a_price with a value of 0. Transcribe the following sentences into code by making use of if statements:\n",
    "\n",
    "1. If a_price is equal to 0, then print the string 'This is free' (remember to use the == operator for equality).\n",
    "\n",
    "2. If a_price is equal to 1, then print the string 'This is not free'."
   ]
  },
  {
   "cell_type": "code",
   "execution_count": null,
   "metadata": {},
   "outputs": [],
   "source": [
    "a_price = 0\n",
    "if a_price == 0:\n",
    "    print(\"This is free\")\n",
    "\n",
    "if a_price == 1:\n",
    "    print(\"This is not free\")"
   ]
  },
  {
   "cell_type": "markdown",
   "metadata": {},
   "source": [
    "#### Modify the existing code in the editor on the right to compute the average rating of non-free apps.\n",
    "\n",
    "- Change the name of the empty list from free_apps_ratings to non_free_apps_ratings (the list we defined before the for loop).\n",
    "\n",
    "- Change the condition if price == 0.0 to account for the fact that we now want to isolate only the ratings of non-free apps.\n",
    "\n",
    "- Change free_apps_ratings.append(rating) to make sure the ratings are appended to the new list non_free_apps_ratings.\n",
    "\n",
    "- Compute the average value by summing up the values in non_free_apps_ratings and dividing by the length of this list. Assign the result to avg_rating_non_free.\n",
    "\n",
    "\n",
    "\n"
   ]
  },
  {
   "cell_type": "code",
   "execution_count": null,
   "metadata": {},
   "outputs": [],
   "source": [
    "# INITIAL CODE\n",
    "opened_file = open('AppleStore.csv')\n",
    "from csv import reader\n",
    "read_file = reader(opened_file)\n",
    "apps_data = list(read_file)\n",
    "\n",
    "free_apps_ratings = []\n",
    "for row in apps_data[1:]:\n",
    "    rating = float(row[7])\n",
    "    price = float(row[4])   \n",
    "    if price == 0.0:\n",
    "        free_apps_ratings.append(rating)\n",
    "    \n",
    "avg_rating_free = sum(free_apps_ratings) / len(free_apps_ratings)\n",
    "\n",
    "non_free_apps_ratings = []\n",
    "for row in apps_data[1:]:\n",
    "    rating = float(row[7])\n",
    "    price = float(row[4])\n",
    "    if price != 0.0:\n",
    "        non_free_apps_ratings.append(rating) \n",
    "        \n",
    "avg_rating_non_free = sum(non_free_apps_ratings) / len(non_free_apps_ratings)\n",
    "                      "
   ]
  },
  {
   "cell_type": "markdown",
   "metadata": {},
   "source": [
    "#### of non-gaming apps.\n",
    "\n",
    "#### Initialize an empty list named non_games_ratings.\n",
    "\n",
    "- Loop through the apps_data list of lists (make sure you don't include the header row). For each iteration of the loop:\n",
    "\n",
    "- Assign the rating of the app as a float to a variable named rating (the index number of the rating column is 7).\n",
    "\n",
    "- Assign the genre of the app to a variable named genre (index number 11).\n",
    "\n",
    "- If the genre is not equal to 'Games', append the rating to the non_games_ratings list.\n",
    "\n",
    "- Compute the average rating of non-gaming apps, and assign the result to a variable named avg_rating_non_games.\n",
    "\n"
   ]
  },
  {
   "cell_type": "code",
   "execution_count": null,
   "metadata": {},
   "outputs": [],
   "source": [
    "opened_file = open('AppleStore.csv')\n",
    "from csv import reader\n",
    "read_file = reader(opened_file)\n",
    "apps_data = list(read_file)\n",
    "\n",
    "non_games_ratings = []\n",
    "for row in apps_data[1:]:\n",
    "    rating = float(row[7])\n",
    "    genre = row[11]\n",
    "    if genre != 'Games':\n",
    "        non_games_ratings.append(rating)\n",
    "    \n",
    "avg_rating_non_games = sum(non_games_ratings) / len(non_games_ratings)\n",
    "print(avg_rating_non_games)\n",
    "    "
   ]
  },
  {
   "cell_type": "markdown",
   "metadata": {},
   "source": [
    "#### Complete the code in the editor to compute the average rating of free gaming apps.\n",
    "\n",
    "- Inside the for loop, append the rating to the free_games_ratings list if the price is equal to 0.0 and the genre is equal to 'Games'.\n",
    "- Outside the for loop, compute the average rating of free gaming apps. Assign the result to a variable named avg_rating_free_games."
   ]
  },
  {
   "cell_type": "code",
   "execution_count": null,
   "metadata": {},
   "outputs": [],
   "source": [
    "# INITIAL CODE\n",
    "opened_file = open('AppleStore.csv')\n",
    "from csv import reader\n",
    "read_file = reader(opened_file)\n",
    "apps_data = list(read_file)\n",
    "\n",
    "free_games_ratings = []\n",
    "for row in apps_data[1:]:\n",
    "    rating = float(row[7])\n",
    "    price = float(row[4])\n",
    "    genre = row[11]\n",
    "    # Complete code from here\n",
    "    \n",
    "    if price == 0.0 and genre == 'Games':\n",
    "        free_games_ratings.append(rating)\n",
    "\n",
    "# Outside the for loop,\n",
    "# compute the average rating \n",
    "# of free gaming apps.\n",
    "# Assign the result to a variable named avg_rating_free_games.\n",
    "\n",
    "avg_rating_free_games = sum(free_games_ratings) / len(free_games_ratings)\n",
    "print(avg_rating_free_games)\n",
    "    "
   ]
  }
 ],
 "metadata": {
  "kernelspec": {
   "display_name": "Python 3",
   "language": "python",
   "name": "python3"
  },
  "language_info": {
   "codemirror_mode": {
    "name": "ipython",
    "version": 3
   },
   "file_extension": ".py",
   "mimetype": "text/x-python",
   "name": "python",
   "nbconvert_exporter": "python",
   "pygments_lexer": "ipython3",
   "version": "3.7.3"
  }
 },
 "nbformat": 4,
 "nbformat_minor": 2
}
